{
 "cells": [
  {
   "cell_type": "code",
   "execution_count": 1,
   "id": "a23fd2d9",
   "metadata": {},
   "outputs": [
    {
     "ename": "ModuleNotFoundError",
     "evalue": "No module named 'seaborn'",
     "output_type": "error",
     "traceback": [
      "\u001b[0;31m---------------------------------------------------------------------------\u001b[0m",
      "\u001b[0;31mModuleNotFoundError\u001b[0m                       Traceback (most recent call last)",
      "Cell \u001b[0;32mIn[1], line 4\u001b[0m\n\u001b[1;32m      2\u001b[0m \u001b[38;5;28;01mimport\u001b[39;00m \u001b[38;5;21;01mpandas\u001b[39;00m \u001b[38;5;28;01mas\u001b[39;00m \u001b[38;5;21;01mpd\u001b[39;00m\n\u001b[1;32m      3\u001b[0m \u001b[38;5;28;01mimport\u001b[39;00m \u001b[38;5;21;01mmatplotlib\u001b[39;00m\u001b[38;5;21;01m.\u001b[39;00m\u001b[38;5;21;01mpyplot\u001b[39;00m \u001b[38;5;28;01mas\u001b[39;00m \u001b[38;5;21;01mplt\u001b[39;00m\n\u001b[0;32m----> 4\u001b[0m \u001b[38;5;28;01mimport\u001b[39;00m \u001b[38;5;21;01mseaborn\u001b[39;00m \u001b[38;5;28;01mas\u001b[39;00m \u001b[38;5;21;01msns\u001b[39;00m\n\u001b[1;32m      5\u001b[0m \u001b[38;5;28;01mimport\u001b[39;00m \u001b[38;5;21;01mnetworkx\u001b[39;00m \u001b[38;5;28;01mas\u001b[39;00m \u001b[38;5;21;01mnx\u001b[39;00m\n\u001b[1;32m      6\u001b[0m \u001b[38;5;28;01mimport\u001b[39;00m \u001b[38;5;21;01mmatplotlib\u001b[39;00m\u001b[38;5;21;01m.\u001b[39;00m\u001b[38;5;21;01mpyplot\u001b[39;00m \u001b[38;5;28;01mas\u001b[39;00m \u001b[38;5;21;01mplt\u001b[39;00m\n",
      "\u001b[0;31mModuleNotFoundError\u001b[0m: No module named 'seaborn'"
     ]
    }
   ],
   "source": [
    "import numpy as np\n",
    "import pandas as pd\n",
    "import matplotlib.pyplot as plt\n",
    "import seaborn as sns\n",
    "import networkx as nx\n",
    "import matplotlib.pyplot as plt\n",
    "from datetime import datetime\n",
    "import yfinance as yf # ticker data \n",
    "from pandas_datareader import data as pdr # market proxy and treasury rates data\n",
    "import datetime as dt\n",
    "from numpy import nan\n",
    "from time import sleep\n",
    "import concurrent.futures\n",
    "from functools import reduce\n",
    "from scipy.stats import norm\n",
    "from sklearn.preprocessing import MinMaxScaler\n",
    "from sklearn.metrics import mean_squared_error\n",
    "import scipy \n",
    "import time\n",
    "from datetime import datetime, timedelta\n",
    "import requests\n",
    "\n",
    "from dateutil.relativedelta import relativedelta\n",
    "#Will Version monthly 1"
   ]
  },
  {
   "cell_type": "code",
   "execution_count": null,
   "id": "1d32a7a7",
   "metadata": {},
   "outputs": [
    {
     "name": "stdout",
     "output_type": "stream",
     "text": [
      "End Date is: 2022-12-31\n"
     ]
    }
   ],
   "source": [
    "\n",
    "tickers = ['XLY', 'XLP', 'XLE', 'XLF', 'XLV', 'XLI', 'XLB', 'XLRE', 'XLK', 'XLC']\n",
    "\n",
    "START_DATE = '2018-12-31'\n",
    "years=4\n",
    "\n",
    "\n",
    "# Convert start_date string to datetime object\n",
    "start_date_dt = datetime.strptime(START_DATE, '%Y-%m-%d')\n",
    "\n",
    "# Add 6 years to start_date\n",
    "end_date_dt = start_date_dt + relativedelta(years=years)\n",
    "\n",
    "# Convert end_date_dt back to string format\n",
    "END_DATE = end_date_dt.strftime('%Y-%m-%d')\n",
    "\n",
    "print(\"End Date is:\",END_DATE)\n",
    "\n",
    "\n"
   ]
  },
  {
   "cell_type": "code",
   "execution_count": null,
   "id": "be263212",
   "metadata": {},
   "outputs": [],
   "source": [
    "\n",
    "# Convert START_DATE to a datetime object\n",
    "start_date_obj = datetime.strptime(START_DATE, '%Y-%m-%d')\n",
    "\n",
    "# Calculate the previous month's date\n",
    "previous_month_start_date = (start_date_obj - relativedelta(months=12)).strftime('%Y-%m-%d')#get correlation from past year\n",
    "#print(previous_month_start_date)\n",
    "\n",
    "\n",
    "#initial DF\n",
    "asset_df = yf.download(tickers[0], start=previous_month_start_date, end=END_DATE, progress=False)\n",
    "asset_df\n",
    "\n",
    "\n",
    "y = asset_df['Adj Close'].resample('M') \\\n",
    "                         .last() \\\n",
    "                         .pct_change() \\\n",
    "                         .dropna()\n",
    "\n",
    "y.index = y.index.strftime('%Y-%m')\n",
    "y.name = tickers[0]\n",
    "df = pd.DataFrame(y)\n",
    "#df.reset_index(inplace=True)\n",
    "\n",
    "for x in range(1,10):\n",
    "    asset_df = yf.download(tickers[x], start=previous_month_start_date, end=END_DATE, progress=False)\n",
    "    y = asset_df['Adj Close'].resample('M') \\\n",
    "                             .last() \\\n",
    "                             .pct_change() \\\n",
    "                             .dropna()\n",
    "    y.index = y.index.strftime('%Y-%m')\n",
    "    y.name = tickers[x]\n",
    "    ydf = pd.DataFrame(y)\n",
    "    df = pd.concat([df, ydf], axis=1)\n",
    "\n",
    "df.reset_index(drop=True, inplace=True)\n",
    "PastReturns_df=df"
   ]
  },
  {
   "cell_type": "code",
   "execution_count": 2,
   "id": "2a2f5d77",
   "metadata": {},
   "outputs": [
    {
     "ename": "NameError",
     "evalue": "name 'START_DATE' is not defined",
     "output_type": "error",
     "traceback": [
      "\u001b[0;31m---------------------------------------------------------------------------\u001b[0m",
      "\u001b[0;31mNameError\u001b[0m                                 Traceback (most recent call last)",
      "Cell \u001b[0;32mIn[2], line 2\u001b[0m\n\u001b[1;32m      1\u001b[0m \u001b[38;5;66;03m# Create a date range from START_DATE to END_DATE with a monthly frequency\u001b[39;00m\n\u001b[0;32m----> 2\u001b[0m date_range \u001b[38;5;241m=\u001b[39m pd\u001b[38;5;241m.\u001b[39mdate_range(start\u001b[38;5;241m=\u001b[39m\u001b[43mSTART_DATE\u001b[49m, end\u001b[38;5;241m=\u001b[39mEND_DATE, freq\u001b[38;5;241m=\u001b[39m\u001b[38;5;124m'\u001b[39m\u001b[38;5;124mM\u001b[39m\u001b[38;5;124m'\u001b[39m)\n\u001b[1;32m      4\u001b[0m    \u001b[38;5;66;03m# Create an empty DataFrame with the date_range as the index\u001b[39;00m\n\u001b[1;32m      5\u001b[0m date_range_df \u001b[38;5;241m=\u001b[39m pd\u001b[38;5;241m.\u001b[39mDataFrame(index\u001b[38;5;241m=\u001b[39mdate_range)\n",
      "\u001b[0;31mNameError\u001b[0m: name 'START_DATE' is not defined"
     ]
    }
   ],
   "source": [
    "\n",
    " # Create a date range from START_DATE to END_DATE with a monthly frequency\n",
    "date_range = pd.date_range(start=START_DATE, end=END_DATE, freq='M')\n",
    "\n",
    "    # Create an empty DataFrame with the date_range as the index\n",
    "date_range_df = pd.DataFrame(index=date_range)\n",
    "date_range_df\n",
    "\n",
    "    # Specify the stocks\n",
    "stocks = tickers\n",
    "\n",
    "\n",
    "\n",
    "    # Create columns for each stock and initialize them with NaN values\n",
    "for stock in stocks:\n",
    "    date_range_df[stock] = pd.Series(dtype=float)\n",
    "\n",
    "date_range_df.head()"
   ]
  },
  {
   "cell_type": "code",
   "execution_count": 3,
   "id": "1303b8f2",
   "metadata": {},
   "outputs": [
    {
     "ename": "NameError",
     "evalue": "name 'years' is not defined",
     "output_type": "error",
     "traceback": [
      "\u001b[0;31m---------------------------------------------------------------------------\u001b[0m",
      "\u001b[0;31mNameError\u001b[0m                                 Traceback (most recent call last)",
      "Cell \u001b[0;32mIn[3], line 1\u001b[0m\n\u001b[0;32m----> 1\u001b[0m \u001b[38;5;28;01mfor\u001b[39;00m x \u001b[38;5;129;01min\u001b[39;00m \u001b[38;5;28mrange\u001b[39m (\u001b[43myears\u001b[49m\u001b[38;5;241m*\u001b[39m\u001b[38;5;241m12\u001b[39m\u001b[38;5;241m+\u001b[39m\u001b[38;5;241m1\u001b[39m): \n\u001b[1;32m      2\u001b[0m     Last_12_months \u001b[38;5;241m=\u001b[39m PastReturns_df\u001b[38;5;241m.\u001b[39miloc[x:\u001b[38;5;241m12\u001b[39m\u001b[38;5;241m+\u001b[39mx] \u001b[38;5;66;03m#get the past 12 months data \u001b[39;00m\n\u001b[1;32m      3\u001b[0m     returns_pct\u001b[38;5;241m=\u001b[39mLast_12_months\n",
      "\u001b[0;31mNameError\u001b[0m: name 'years' is not defined"
     ]
    }
   ],
   "source": [
    "for x in range (years*12+1): \n",
    "    Last_12_months = PastReturns_df.iloc[x:12+x] #get the past 12 months data \n",
    "    returns_pct=Last_12_months\n",
    "    corr = returns_pct.corr() # calculate the correlations between the returns of each pair of stocks\n",
    "    #sns.heatmap(corr,annot=True,cmap=\"coolwarm\")   USE THIS FOR GRAPHICS\n",
    "    corr_df = pd.DataFrame(corr)\n",
    "    titles = corr_df.columns.tolist()\n",
    "    \n",
    "    def truncate(f,relaxer=.99): \n",
    "        if (abs(f) < relaxer):\n",
    "            return 0\n",
    "        else:\n",
    "            return 1\n",
    "    relaxer=.9999\n",
    "    truncated=corr.applymap(truncate)\n",
    "    # we already know that every stock is perfectly correlated with itself, so the ones on the diagonal are not really useful information. Let's get rid of them.\n",
    "    adj = truncated- np.identity(10)\n",
    "    stocknet = nx.from_numpy_array(adj.to_numpy()) # initialize a new graph from our adjacency matrix\n",
    "\n",
    "    while nx.is_connected(stocknet)==False:\n",
    "        relaxer=relaxer-.0001\n",
    "        truncated=corr.applymap(truncate)\n",
    "        adj = corr.applymap(lambda x: truncate(x, relaxer=relaxer))- np.identity(10)\n",
    "        stocknet = nx.from_numpy_array(adj.to_numpy()) # initialize a new graph from our adjacency matrix\n",
    "    else:\n",
    "        print(\"Connected Graph Found\")\n",
    "        #print(relaxer)\n",
    "\n",
    "    IndexedStocknet=stocknet\n",
    "    Indexedstock_layout = nx.spring_layout(IndexedStocknet,seed=10)\n",
    "    stocknet = nx.relabel_nodes(stocknet, dict(enumerate(adj.columns))) # keep the stock tickers as the names of the nodes (instead of integers)\n",
    "    stock_layout = nx.spring_layout(stocknet,seed=10) # fix our layout\n",
    "    L = nx.laplacian_matrix(stocknet).todense()\n",
    "    (u,v) = np.linalg.eig(L)\n",
    "    u_sorted = np.sort(u)\n",
    "    v_sorted = v[:, u.argsort()]\n",
    "    colors = [ \"lightcoral\" for i in range(0,10) ]\n",
    "    for i in range(0,10):\n",
    "        if (v_sorted[i,1] < 0):\n",
    "            colors[i] = \"mediumpurple\"\n",
    "\n",
    "\n",
    "    eigen_cent = nx.eigenvector_centrality(IndexedStocknet)\n",
    "    eigen_colors = [eigen_cent[i] for i in range(0,10)]\n",
    "    fig, (ax1, ax2) = plt.subplots(ncols=2)\n",
    "\n",
    "    # Draw the graphs in the subplots\n",
    "    nx.draw(IndexedStocknet,Indexedstock_layout,node_color=eigen_colors,with_labels=True,ax=ax1)\n",
    "    nx.draw(stocknet,stock_layout,node_color=colors,with_labels=True,ax=ax2)\n",
    "\n",
    "    plt.show()\n",
    "    \n",
    "    df = pd.DataFrame(eigen_cent,index=[0])\n",
    "    dfT= pd.DataFrame(titles)\n",
    "    # print the resulting DataFrame\n",
    "    mat1=df.T\n",
    "    mat2=dfT\n",
    "    Centrality_results = mat1.values.flatten().tolist()\n",
    "    date_range_df.loc[date_range[x]] = Centrality_results\n",
    "\n",
    "    \n"
   ]
  },
  {
   "cell_type": "code",
   "execution_count": 4,
   "id": "68ba390e",
   "metadata": {},
   "outputs": [
    {
     "ename": "NameError",
     "evalue": "name 'date_range_df' is not defined",
     "output_type": "error",
     "traceback": [
      "\u001b[0;31m---------------------------------------------------------------------------\u001b[0m",
      "\u001b[0;31mNameError\u001b[0m                                 Traceback (most recent call last)",
      "Cell \u001b[0;32mIn[4], line 1\u001b[0m\n\u001b[0;32m----> 1\u001b[0m \u001b[43mdate_range_df\u001b[49m\u001b[38;5;241m.\u001b[39mhead()\n",
      "\u001b[0;31mNameError\u001b[0m: name 'date_range_df' is not defined"
     ]
    }
   ],
   "source": [
    "\n",
    "\n",
    "date_range_df.head()\n"
   ]
  },
  {
   "cell_type": "code",
   "execution_count": 5,
   "id": "c8cf1aac",
   "metadata": {},
   "outputs": [
    {
     "ename": "NameError",
     "evalue": "name 'date_range_df' is not defined",
     "output_type": "error",
     "traceback": [
      "\u001b[0;31m---------------------------------------------------------------------------\u001b[0m",
      "\u001b[0;31mNameError\u001b[0m                                 Traceback (most recent call last)",
      "Cell \u001b[0;32mIn[5], line 2\u001b[0m\n\u001b[1;32m      1\u001b[0m file_path \u001b[38;5;241m=\u001b[39m \u001b[38;5;124m'\u001b[39m\u001b[38;5;124mCentralityData1.xlsx\u001b[39m\u001b[38;5;124m'\u001b[39m\n\u001b[0;32m----> 2\u001b[0m \u001b[43mdate_range_df\u001b[49m\u001b[38;5;241m.\u001b[39mto_excel(file_path, index\u001b[38;5;241m=\u001b[39m\u001b[38;5;28;01mTrue\u001b[39;00m)\n",
      "\u001b[0;31mNameError\u001b[0m: name 'date_range_df' is not defined"
     ]
    }
   ],
   "source": [
    "\n",
    "file_path = 'CentralityData1.xlsx'\n",
    "date_range_df.to_excel(file_path, index=True)\n",
    "\n"
   ]
  },
  {
   "cell_type": "code",
   "execution_count": null,
   "id": "6a10197e",
   "metadata": {},
   "outputs": [],
   "source": []
  }
 ],
 "metadata": {
  "date": 1680209446.8003404,
  "filename": "networks.md",
  "kernelspec": {
   "display_name": "Python 3 (ipykernel)",
   "language": "python",
   "name": "python3"
  },
  "language_info": {
   "codemirror_mode": {
    "name": "ipython",
    "version": 3
   },
   "file_extension": ".py",
   "mimetype": "text/x-python",
   "name": "python",
   "nbconvert_exporter": "python",
   "pygments_lexer": "ipython3",
   "version": "3.9.6"
  },
  "title": "Social and Economic Networks"
 },
 "nbformat": 4,
 "nbformat_minor": 5
}
